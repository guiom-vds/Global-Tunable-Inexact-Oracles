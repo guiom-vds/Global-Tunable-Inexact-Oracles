{
 "cells": [
  {
   "cell_type": "markdown",
   "metadata": {},
   "source": [
    "# Global Tunable Inexact Oracles :: \n",
    "\n",
    "**Version** : 1.0 ; pointwise tests in the meta-parameter space\n",
    "\n",
    "`Performance analysis of deterministic gradient based methods using accuracy global tunable inexact oracles.`\n",
    "\n",
    "**Author** : Ir. *Van Dessel*, Ph.D. candidate @EPL\n",
    "\n",
    "**Comment** : For now on, let's stick to fully deterministic methods (however those might be inexact as well but there must be \n",
    "no source of randomness at each update step apart from oracle's content)\n",
    "\n",
    "**What's next?** : General integer possibility for feasibility center and optimizer"
   ]
  },
  {
   "cell_type": "code",
   "execution_count": 1,
   "metadata": {},
   "outputs": [],
   "source": [
    "## packages' import\n",
    "import numpy as np\n",
    "import seaborn as sns\n",
    "import matplotlib.pyplot as plt\n",
    "import pandas as pd\n",
    "from scipy.stats import wald,norm,f,expon,chi2,uniform\n",
    "import scipy.linalg as la\n",
    "from IPython.display import display,clear_output\n",
    "from ipywidgets import *\n",
    "import decimal\n",
    "\n",
    "%matplotlib notebook\n",
    "\n",
    "np.warnings.filterwarnings('ignore')"
   ]
  },
  {
   "cell_type": "markdown",
   "metadata": {},
   "source": [
    "____________________________________________________________________________________"
   ]
  },
  {
   "cell_type": "markdown",
   "metadata": {},
   "source": [
    "Creation of a problem\n",
    "-------------------------------"
   ]
  },
  {
   "cell_type": "code",
   "execution_count": 2,
   "metadata": {},
   "outputs": [],
   "source": [
    "# @instantiation of the possibility lists \n",
    "\n",
    "# objective function list\n",
    "obj_list = ['generic','other'] # add practical things\n",
    "\n",
    "# method list\n",
    "met_list = ['gd']\n",
    "\n",
    "# inaccuracy level distribution list\n",
    "dst_list = ['uniform','exponential','F','chi2','wald']\n",
    "\n",
    "# search space dimension \n",
    "d = 10\n",
    "\n",
    "#####################################################################################################################################\n",
    "\n",
    "# @creation of inherent widgets\n",
    "\n",
    "widget_obj = widgets.Dropdown(\n",
    "    options=obj_list,\n",
    "    value=obj_list[0],\n",
    "    description='obj. fun.: ',\n",
    ")\n",
    "\n",
    "widget_met = widgets.Dropdown(\n",
    "    options=met_list,\n",
    "    value=met_list[0],\n",
    "    description='method: ',\n",
    ")\n",
    "\n",
    "widget_dst = widgets.Dropdown(\n",
    "    options=dst_list,\n",
    "    value=dst_list[0],\n",
    "    description='distrib. level: ',\n",
    ")\n",
    "\n",
    "widget_d = widgets.IntSlider(\n",
    "    value=d,\n",
    "    min=1,\n",
    "    max=100,\n",
    "    step=1,\n",
    "    description='dimension:',\n",
    "    disabled=False,\n",
    "    continuous_update=False,\n",
    "    orientation='horizontal',\n",
    "    readout=True,\n",
    "    readout_format='d'\n",
    ")\n",
    "\n",
    "widget_cons = widgets.Checkbox(\n",
    "    value=False,\n",
    "    description='constrained?',\n",
    "    disabled=False\n",
    ")\n",
    "\n",
    "widget_distance = BoundedFloatText(\n",
    "    value=1,\n",
    "    min=0,\n",
    "    max=1000.0,\n",
    "    step=0.05,\n",
    "    description='center norm:',\n",
    "    disabled=False)"
   ]
  },
  {
   "cell_type": "code",
   "execution_count": 3,
   "metadata": {},
   "outputs": [],
   "source": [
    "# @default Problem class\n",
    "class Problem:\n",
    "    \n",
    "    f = lambda x: (1/2)*np.sum(x**2)\n",
    "    dif_f = lambda x: x\n",
    "    mu = 1\n",
    "    L = 1\n",
    "    d = 10\n",
    "    m = 0\n",
    "    constr = False\n",
    "    x_star = np.zeros(d)\n",
    "    scale = 5\n",
    "    center = None\n",
    "    type_dom = None\n",
    "    update = lambda h,u: u\n",
    "    \n",
    "    # instance based content yet to come\n",
    "    \n",
    "def short_not(float_number):\n",
    "    return '%.3e' % decimal.Decimal(str(float_number))\n",
    "    \n",
    "def present_Problem():\n",
    "    \n",
    "    print(' ')\n",
    "    print('|| problem summary ||')\n",
    "    print('---------------------')\n",
    "    print(' ')\n",
    "    if Problem.constr:\n",
    "        if Problem.type_dom is 'box':\n",
    "            print('=> constrained in a box defined by :')\n",
    "            if Problem.d <= 5:\n",
    "                buf='['+short_not(Problem.center[0]-Problem.scale)+' , '+short_not(Problem.center[0]+Problem.scale)+']'\n",
    "                for elem in np.linspace(1,Problem.d-1,Problem.d-1):\n",
    "                    buf+=' X ['+short_not(Problem.center[int(elem)]-Problem.scale)+' , '\\\n",
    "                    +short_not(Problem.center[int(elem)]+Problem.scale)+']'\n",
    "            else:\n",
    "                buf = 'U from i = 1 to '+str(Problem.d)+' [c_i - '+str(Problem.scale)+' , c_i + '+str(Problem.scale)+']'\n",
    "            print(buf)\n",
    "        else:\n",
    "            print('=> constrainted in a ball defined by : ')\n",
    "            print(' B := {x in R^'+str(int(Problem.d))+' | ||x-c|| <= '+str(Problem.scale)+'}')\n",
    "    else: \n",
    "        print('=> unconstrained ')\n",
    "    print(' ')\n",
    "    print('dimension : '+str(int(Problem.d)))\n",
    "    print('estimated strong convexity parameter : '+str(Problem.mu))\n",
    "    print('estimated smoothness parameter : '+str(Problem.L))\n",
    "    print('activated constraints at optimum : '+str(int(Problem.m)))\n",
    "    if Problem.d <= 20:\n",
    "        print('optimum : '+str(Problem.x_star))\n",
    "    print(' ')\n",
    "    \n",
    "def reset_Problem():\n",
    "    \n",
    "    Problem.f = lambda x: (1/2)*np.sum((x-Problem.x_star)**2)\n",
    "    Problem.f = lambda x: (x-Problem.x_star)\n",
    "    Problem.mu = 1\n",
    "    Problem.L = 1\n",
    "    Problem.d = 10"
   ]
  },
  {
   "cell_type": "code",
   "execution_count": 4,
   "metadata": {},
   "outputs": [],
   "source": [
    "### models x_*\n",
    "def free(dist):\n",
    "    \n",
    "    direc = norm.rvs(loc=0, scale=1, size=Problem.d)\n",
    "    Problem.x_star = dist*direc/la.norm(direc)\n",
    "    \n",
    "    Problem.center = Problem.x_star\n",
    "    \n",
    "    print(' ')\n",
    "    print('=> a new optimizer has been chosen')\n",
    "    if Problem.d <= 20:\n",
    "        print(Problem.x_star)\n",
    "    print(' ')\n",
    "    \n",
    "def ball_proj(u,center,scale):\n",
    "    return center + (u-center)/np.max([scale,la.norm(u-center)])\n",
    "    \n",
    "def ball_constraint(center,m,scale):\n",
    "    \n",
    "    Problem.m = m\n",
    "    Problem.scale = scale\n",
    "    Problem.update = lambda h,u: ball_proj(u,Problem.center,Problem.scale)\n",
    "    \n",
    "    direc = norm.rvs(loc=0, scale=1, size=Problem.d)\n",
    "    \n",
    "    if m==1:\n",
    "        Problem.x_star = center+scale*direc/la.norm(direc)\n",
    "    else:\n",
    "        Problem.x_star = center+(scale*np.random.uniform(0,1)**(1/Problem.d))*direc/la.norm(direc)\n",
    "        \n",
    "    print(' ')\n",
    "    print('=> a new optimizer has been chosen')\n",
    "    if Problem.d <= 20:\n",
    "        print(Problem.x_star)\n",
    "    print(' ')\n",
    "    \n",
    "def box_proj(u,center,scale):\n",
    "    buf = []\n",
    "    bounds = [center-scale,center+scale]\n",
    "    for j in np.arange(len(u)):\n",
    "        if u[j]<bounds[0][j]:\n",
    "            buf.append(bounds[0][j])\n",
    "        elif u[j]>bounds[1][j]:\n",
    "            buf.append(bounds[1][j])\n",
    "        else:\n",
    "            buf.append(u[j])\n",
    "    return np.array(buf)\n",
    "        \n",
    "def box_constraint(center,m,scale):\n",
    "    \n",
    "    Problem.m = m\n",
    "    Problem.scale = scale\n",
    "    Problem.update = lambda h,u: box_proj(u,Problem.center,Problem.scale)\n",
    "    \n",
    "    bounds = [center-Problem.scale,center+Problem.scale]\n",
    "    \n",
    "    if m>0:\n",
    "        indices = np.random.choice(np.arange(Problem.d),m,False)\n",
    "        buf = np.zeros(Problem.d)\n",
    "        for elem in np.arange(Problem.d):\n",
    "            if elem in indices:\n",
    "                buf[elem] = np.random.choice([bounds[0][elem],bounds[1][elem]],1)[0]\n",
    "            else:\n",
    "                buf[elem] = np.random.uniform(bounds[0][elem],bounds[1][elem],1)\n",
    "        Problem.x_star = buf\n",
    "    else:\n",
    "        Problem.x_star = np.random.uniform(bounds[0],bounds[1],Problem.d)\n",
    "        \n",
    "    print(' ')\n",
    "    print('=> a new optimizer has been chosen')\n",
    "    if Problem.d <= 20:\n",
    "        print(Problem.x_star)\n",
    "    print(' ')\n",
    "    \n",
    "def constraint(dist,cstr_type='box'):\n",
    "    \n",
    "    direc = norm.rvs(loc=0, scale=1, size=Problem.d)\n",
    "    cent = dist*direc/la.norm(direc)\n",
    "    \n",
    "    Problem.center = cent\n",
    "    \n",
    "    widget_scale = BoundedFloatText(\n",
    "    value=1,\n",
    "    min=0,\n",
    "    max=1000.0,\n",
    "    step=0.05,\n",
    "    description='scale:',\n",
    "    disabled=False)\n",
    "    \n",
    "    if cstr_type is 'ball':\n",
    "        \n",
    "        Problem.type_dom = 'ball'\n",
    "    \n",
    "        widget_m = widgets.IntSlider(\n",
    "        value=0,\n",
    "        min=0,\n",
    "        max=1,\n",
    "        step=1,\n",
    "        description='number of activated constraints at x_*:')\n",
    "        \n",
    "        interact(lambda m,scale: ball_constraint(cent,m,scale),m=widget_m,scale=widget_scale)\n",
    "    \n",
    "    else:\n",
    "        \n",
    "        Problem.type_dom = 'box'\n",
    "        \n",
    "        widget_m = widgets.IntSlider(\n",
    "        value=0,\n",
    "        min=0,\n",
    "        max=Problem.d,\n",
    "        step=1,\n",
    "        description='number of activated constraints at x_*:')\n",
    "        \n",
    "        interact(lambda m,scale: box_constraint(cent,m,scale),m=widget_m,scale=widget_scale)"
   ]
  },
  {
   "cell_type": "code",
   "execution_count": 5,
   "metadata": {},
   "outputs": [],
   "source": [
    "### models for f and del f\n",
    "\n",
    "# generic\n",
    "def generic(alpha=1,beta=1.3,gamma=4.5):\n",
    "    \n",
    "    # @priori s.c. and smoothness parameters\n",
    "    Problem.mu = alpha\n",
    "    Problem.L = alpha + 4*beta + gamma/2 \n",
    "    \n",
    "    yf = widgets.HTMLMath(value=r'$$f(x) = \\frac{\\alpha}{2}\\,||x-x_*||^2 + \\beta \\, g(x-x_*) + \\gamma \\, [h(x) - h(x_*) \\\n",
    "    - \\langle \\nabla h(x_*) \\, , \\, x-x_* \\rangle] $$')\n",
    "    ye = widgets.Label(value='where')\n",
    "    yg = widgets.HTMLMath(value=r'$$g(x) = \\frac{1}{2}\\,[x_{1}^2 + \\sum_{i=1}^{d}\\, (x_{i} - x_{i+1})^2 + x_{d}^2]$$')\n",
    "    yh = widgets.HTMLMath(value=r'$$h(x) = \\log(\\sum_{i=1}^{d} \\, e^{x_{i}})$$')\n",
    "    display(yf,ye,yg,yh)\n",
    "    \n",
    "    def z(x):\n",
    "        return (1/2)*np.sum(x**2)\n",
    "    \n",
    "    def grad_z(x):\n",
    "        return x\n",
    "    \n",
    "    def g(x):\n",
    "        return (1/2)*(x[0]**2 + x[-1]**2 + np.sum((x[:-1]-x[1:])**2))\n",
    "    \n",
    "    def grad_g(x):\n",
    "        zer = np.zeros(1)\n",
    "        _x = np.concatenate((zer,x[:-1]),axis=None)\n",
    "        x_ = np.concatenate((x[1:],zer),axis=None)\n",
    "        return 2*x - (_x + x_)\n",
    "    \n",
    "    def h(x):\n",
    "        delta = np.max(x)\n",
    "        return delta + np.log(np.sum(np.exp(x-delta)))\n",
    "    \n",
    "    def grad_h(x):\n",
    "        delta = np.max(x)\n",
    "        u = np.exp(x-delta)\n",
    "        return u/np.sum(u)\n",
    "    \n",
    "    x_star = Problem.x_star\n",
    "    h_star = h(x_star)\n",
    "    grad_h_star = grad_h(x_star)\n",
    "    \n",
    "    # first order information\n",
    "    \n",
    "    Problem.f = lambda x: alpha*z(x-x_star) + beta*g(x-x_star) +\\\n",
    "            gamma*(h(x)-h_star-(grad_h_star@(x-x_star)))\n",
    "    \n",
    "    Problem.dif_f = lambda x: alpha*grad_z(x-x_star) + beta*grad_g(x-x_star)+\\\n",
    "            gamma*(grad_h(x)-grad_h_star)"
   ]
  },
  {
   "cell_type": "code",
   "execution_count": 6,
   "metadata": {},
   "outputs": [],
   "source": [
    "def change_optimizer(dimension,boolean,distance=5):\n",
    "    \n",
    "    Problem.d = int(dimension)\n",
    "    Problem.constr = boolean\n",
    "    \n",
    "    if boolean: # only box, ball\n",
    "        \n",
    "        widget_type = widgets.Dropdown(\n",
    "        options=['box','ball'],\n",
    "        value='box',\n",
    "        description='constraint type: ')\n",
    "        \n",
    "        interact(lambda cstr_type: constraint(distance,cstr_type), cstr_type = widget_type)\n",
    "        \n",
    "    else:\n",
    "        \n",
    "        free(distance)\n",
    "        \n",
    "\n",
    "def change_obj(string):\n",
    "    \n",
    "    if string is 'generic':\n",
    "        \n",
    "        widget_alpha = BoundedFloatText(\n",
    "            value=1.0,\n",
    "            min=0,\n",
    "            max=100.0,\n",
    "            step=0.01,\n",
    "            description='alpha:',\n",
    "            disabled=False)\n",
    "        \n",
    "        widget_beta = BoundedFloatText(\n",
    "            value=1.3,\n",
    "            min=0,\n",
    "            max=100000.0,\n",
    "            step=0.05,\n",
    "            description='beta:',\n",
    "            disabled=False)\n",
    "        \n",
    "        widget_gamma = BoundedFloatText(\n",
    "            value=4.5,\n",
    "            min=0,\n",
    "            max=500000.0,\n",
    "            step=0.5,\n",
    "            description='gamma:',\n",
    "            disabled=False)\n",
    "        \n",
    "        # exact f,dif functions \n",
    "        interact(generic,alpha = widget_alpha,beta = widget_beta, gamma = widget_gamma);\n",
    "        \n",
    "    else:\n",
    "        \n",
    "        # default f,dif functions \n",
    "        reset_Problem()\n",
    "        y = widgets.HTMLMath(value=r'$$f(x) = \\frac{||x-x_*||^2}{2}$$')\n",
    "        display(y)"
   ]
  },
  {
   "cell_type": "code",
   "execution_count": 7,
   "metadata": {},
   "outputs": [
    {
     "data": {
      "application/vnd.jupyter.widget-view+json": {
       "model_id": "8d79c47bee1c4d4594ac7e696c7ae524",
       "version_major": 2,
       "version_minor": 0
      },
      "text/plain": [
       "interactive(children=(IntSlider(value=10, continuous_update=False, description='dimension:', min=1), Checkbox(…"
      ]
     },
     "metadata": {},
     "output_type": "display_data"
    }
   ],
   "source": [
    "# optimum \n",
    "interact(change_optimizer,dimension = widget_d,boolean = widget_cons, distance = widget_distance);"
   ]
  },
  {
   "cell_type": "code",
   "execution_count": 8,
   "metadata": {},
   "outputs": [
    {
     "data": {
      "application/vnd.jupyter.widget-view+json": {
       "model_id": "90c76cda1250477d98a211f636f403ec",
       "version_major": 2,
       "version_minor": 0
      },
      "text/plain": [
       "interactive(children=(Dropdown(description='obj. fun.: ', options=('generic', 'other'), value='generic'), Outp…"
      ]
     },
     "metadata": {},
     "output_type": "display_data"
    }
   ],
   "source": [
    "# objective function\n",
    "interact(change_obj,string = widget_obj);"
   ]
  },
  {
   "cell_type": "code",
   "execution_count": 9,
   "metadata": {},
   "outputs": [
    {
     "data": {
      "application/vnd.jupyter.widget-view+json": {
       "model_id": "b4a7d8910e364656927964c567d2ab7c",
       "version_major": 2,
       "version_minor": 0
      },
      "text/plain": [
       "Button(description='Load Problem', style=ButtonStyle())"
      ]
     },
     "metadata": {},
     "output_type": "display_data"
    },
    {
     "data": {
      "application/vnd.jupyter.widget-view+json": {
       "model_id": "62cc0815dd7a4984ba2901835ede9f0f",
       "version_major": 2,
       "version_minor": 0
      },
      "text/plain": [
       "Output()"
      ]
     },
     "metadata": {},
     "output_type": "display_data"
    }
   ],
   "source": [
    "button = widgets.Button(description=\"Load Problem\")\n",
    "output = widgets.Output()\n",
    "\n",
    "display(button, output)\n",
    "\n",
    "def on_button_clicked(b):\n",
    "    with output:\n",
    "        clear_output()\n",
    "        present_Problem()\n",
    "\n",
    "button.on_click(on_button_clicked)"
   ]
  },
  {
   "cell_type": "markdown",
   "metadata": {},
   "source": [
    "Non-dynamic oracle: base cost model\n",
    "------------------------------------------------------\n",
    "\n",
    "for all $k \\in \\{0,...,N-1\\}$,\n",
    "\n",
    "$$ \\mathcal{M}_k(\\delta_k) = \\frac{c_1 \\delta_k + c_2}{1+c_3 \\delta_k}$$\n",
    "(smooth convex)"
   ]
  },
  {
   "cell_type": "code",
   "execution_count": 10,
   "metadata": {},
   "outputs": [
    {
     "name": "stdout",
     "output_type": "stream",
     "text": [
      "lower bound for cost: 0.26666666666666666\n"
     ]
    },
    {
     "data": {
      "image/png": "[encoded data removed]",
      "text/plain": [
       "<Figure size 648x432 with 1 Axes>"
      ]
     },
     "metadata": {},
     "output_type": "display_data"
    }
   ],
   "source": [
    "# c1 < c3*c2 to avoid convexity issues in (c1*delta + c2)/(1+c3*delta)\n",
    "scaler = 50\n",
    "c1 = 0.2*scaler\n",
    "c2 = 1\n",
    "c3 = 0.75*scaler\n",
    "mix = c2*c3-c1\n",
    "limit = c1/c3\n",
    "L_cost = 2*c3*(c3*c2-c1) # see diff2_base_cost max ;)\n",
    "\n",
    "def base_cost(delta):\n",
    "    return np.sum((c1*delta+c2)/(1+c3*delta)) # indep. of iteration number !\n",
    "\n",
    "def diff_base_cost(delta):\n",
    "    return np.array([(c1-c3*c2)/(1+c3*(delta_j))**2 for delta_j in delta])\n",
    "\n",
    "def diff2_base_cost(delta): # matrix stored in a vector\n",
    "    return np.array([2*c3*(c3*c2 - c1)/(1+c3*(delta_j))**3 for delta_j in delta])\n",
    "\n",
    "deltas = np.linspace(0,1,200)\n",
    "plt.figure(figsize=(9,6))\n",
    "plt.title('$\\delta$ cost')\n",
    "plt.xlabel('$\\delta_k$')\n",
    "plt.ylabel('Cost')\n",
    "plt.grid()\n",
    "plt.plot(deltas,(c1*(deltas)+c2)/(1+c3*(deltas)))\n",
    "plt.legend(['$\\mathcal{M}_k(\\delta_k)$']);\n",
    "print('lower bound for cost: '+str(limit))"
   ]
  },
  {
   "cell_type": "markdown",
   "metadata": {},
   "source": [
    "Schedule optimization for exact, inexact tending to exact and inexact (KKT)\n",
    "-------------------------------------------------------"
   ]
  },
  {
   "cell_type": "code",
   "execution_count": 11,
   "metadata": {},
   "outputs": [
    {
     "name": "stdout",
     "output_type": "stream",
     "text": [
      "cost of (kkt optimized) inexact : L and mu : 381.5915664443808\n",
      "cost of exact : L_f and mu_f : 123.0\n",
      "cost of exact : L and mu : 491.0\n"
     ]
    },
    {
     "data": {
      "image/png": "[encoded data removed]",
      "text/plain": [
       "<Figure size 648x432 with 1 Axes>"
      ]
     },
     "metadata": {},
     "output_type": "display_data"
    }
   ],
   "source": [
    "greedy = False\n",
    "\n",
    "R = 10\n",
    "epsilon = 1e-5\n",
    "\n",
    "rho_exact = (1-(Problem.mu/Problem.L))\n",
    "A_exact = lambda N: np.sum(rho_exact**(N-1-np.arange(N)))\n",
    "lower,upper=0,1e5 # increase manually.. if no solution found\n",
    "while upper-lower>1:\n",
    "    N_test = np.ceil((lower+upper)/2)\n",
    "    A_test = A_exact(N_test)\n",
    "    if A_test*epsilon - ((Problem.L*R**2)/2)*rho_exact**N_test>0:\n",
    "        upper = N_test\n",
    "    else:\n",
    "        lower = N_test\n",
    "N_exact = upper\n",
    "\n",
    "if greedy:\n",
    "    L = Problem.L\n",
    "    mu = Problem.mu\n",
    "else:\n",
    "    L = 2*Problem.L\n",
    "    mu = Problem.mu/2\n",
    "\n",
    "rho = (1-(mu/L))\n",
    "A_inexact = lambda N: np.sum(rho**(N-1-np.arange(N)))\n",
    "lower,upper=0,1e5 # increase manually.. if no solution found\n",
    "while upper-lower>1:\n",
    "    N_test = np.ceil((lower+upper)/2)\n",
    "    A_test = A_inexact(N_test)\n",
    "    if A_test*epsilon - ((L*R**2)/2)*rho**N_test>0:\n",
    "        upper = N_test\n",
    "    else:\n",
    "        lower = N_test\n",
    "N_inexact_min = upper\n",
    "\n",
    "mix = c2*c3-c1\n",
    "verbose_check = False\n",
    "\n",
    "\n",
    "buf = np.max([2*N_inexact_min,np.floor(limit*N_exact)])\n",
    "costs = np.linspace(np.max([N_inexact_min,2]),buf,np.min([1000,int(buf-N_exact)]))\n",
    "list_costs = []\n",
    "buf_cost = np.inf\n",
    "base_sched = np.zeros(int(N_inexact_min))\n",
    "\n",
    "for elem in costs:\n",
    "    \n",
    "    lower = 1\n",
    "    upper = int(elem)\n",
    "    \n",
    "    a = rho**(N_inexact_min-1-np.arange(elem))\n",
    "    A = np.sum(a)\n",
    "    K = A*epsilon - ((L*R**2)/2)*rho**elem\n",
    "\n",
    "    while upper-lower>1:\n",
    "        mean = int(np.ceil([lower+(upper-lower)/2]))\n",
    "        if verbose_check:\n",
    "            print('test with : '+str(mean))\n",
    "        feas = np.sqrt(np.max(a[:mean])/mix)\n",
    "        attempt = (K*c3 + np.sum(a[:mean]))/(np.sum(np.sqrt(a[:mean]*mix)))\n",
    "        if attempt>feas:\n",
    "            lower = mean\n",
    "            if verbose_check:\n",
    "                print('ok with '+str(mean)+' non-zero deltas')\n",
    "        else:\n",
    "            upper = mean\n",
    "            if verbose_check:\n",
    "                print('not ok with '+str(mean)+' non-zero deltas')\n",
    "\n",
    "    coeff_test = (K*c3 + np.sum(a[:lower+1]))/(np.sum(np.sqrt(a[:lower+1]*mix)))\n",
    "    feas_test = np.sqrt(np.max(a[:lower+1])/mix)\n",
    "    if coeff_test>feas_test:\n",
    "        coeff = coeff_test\n",
    "        new_base_sched = np.concatenate((np.ones(lower+1)*(coeff*np.sqrt(mix/a[:lower+1])-1)/c3,np.zeros(int(elem-lower-1))))\n",
    "        ret = lower+1\n",
    "    else:\n",
    "        coeff = (K*c3 + np.sum(a[:lower]))/(np.sum(np.sqrt(a[:lower]*mix)))\n",
    "        ret = lower\n",
    "        new_base_sched = np.concatenate((np.ones(lower)*(coeff*np.sqrt(mix/a[:lower])-1)/c3,np.zeros(int(elem-lower))))\n",
    "    new_cost = base_cost(new_base_sched)\n",
    "    list_costs.append(new_cost)\n",
    "    if new_cost<buf_cost:\n",
    "        buf_cost = new_cost\n",
    "        base_sched = new_base_sched\n",
    "        a_sched = a\n",
    "        A_sched = A\n",
    "        K_sched = K\n",
    "        ret_sched = ret\n",
    "\n",
    "if len(costs)>1:\n",
    "    plt.figure(figsize=(9,6))\n",
    "    plt.title('opt worst cost vs. # iterations')\n",
    "    plt.xlabel('# iterations')\n",
    "    plt.ylabel('$M^*$')\n",
    "    plt.grid()\n",
    "    plt.plot(costs,np.array(list_costs),color='green')\n",
    "    plt.plot(costs,np.ones(len(costs))*base_cost(np.zeros(int(N_inexact_min))),color='red')\n",
    "    plt.legend(['inexact : $L$ and $\\mu$','exact : $L$ and $\\mu$']);\n",
    "print('cost of '+'(kkt optimized) inexact : L and mu'+' : '+str(base_cost(base_sched)))\n",
    "print('cost of '+'exact : L_f and mu_f'+' : '+str(base_cost(np.zeros(int(N_exact)))))\n",
    "print('cost of '+'exact : L and mu'+' : '+str(base_cost(np.zeros(int(N_inexact_min)))))"
   ]
  },
  {
   "cell_type": "markdown",
   "metadata": {},
   "source": [
    "The linear interpolation of the performance/overall cost under optimized $\\{\\delta_k\\}_{k=0}^{N-1}$ schedule seems *quasi-convex*."
   ]
  },
  {
   "cell_type": "code",
   "execution_count": 12,
   "metadata": {},
   "outputs": [
    {
     "name": "stdout",
     "output_type": "stream",
     "text": [
      "number of non lower-limit delta_k : 250\n"
     ]
    },
    {
     "data": {
      "image/png": "[encoded data removed]",
      "text/plain": [
       "<Figure size 648x432 with 1 Axes>"
      ]
     },
     "metadata": {},
     "output_type": "display_data"
    }
   ],
   "source": [
    "plt.figure(figsize=(9,6))\n",
    "plt.title('$\\delta$ vs. iterations | various schedules')\n",
    "plt.xlabel(' iter : [k]')\n",
    "plt.ylabel('$\\delta$')\n",
    "plt.grid()\n",
    "plt.plot(np.arange(len(base_sched)),base_sched)\n",
    "plt.legend(['kkt base']);\n",
    "print('number of non lower-limit delta_k : '+str(ret_sched))"
   ]
  },
  {
   "cell_type": "markdown",
   "metadata": {},
   "source": [
    "User's oracle strategy & method\n",
    "----------------------------------------------"
   ]
  },
  {
   "cell_type": "code",
   "execution_count": 14,
   "metadata": {},
   "outputs": [
    {
     "ename": "ValueError",
     "evalue": "operands could not be broadcast together with shapes (24,) (10,) ",
     "output_type": "error",
     "traceback": [
      "\u001b[1;31m---------------------------------------------------------------------------\u001b[0m",
      "\u001b[1;31mValueError\u001b[0m                                Traceback (most recent call last)",
      "\u001b[1;32m<ipython-input-14-1aae48f99706>\u001b[0m in \u001b[0;36m<module>\u001b[1;34m()\u001b[0m\n\u001b[0;32m      2\u001b[0m \u001b[1;33m\u001b[0m\u001b[0m\n\u001b[0;32m      3\u001b[0m \u001b[0mdirec\u001b[0m \u001b[1;33m=\u001b[0m \u001b[0mnp\u001b[0m\u001b[1;33m.\u001b[0m\u001b[0mrandom\u001b[0m\u001b[1;33m.\u001b[0m\u001b[0mnormal\u001b[0m\u001b[1;33m(\u001b[0m\u001b[1;36m0\u001b[0m\u001b[1;33m,\u001b[0m\u001b[1;36m1\u001b[0m\u001b[1;33m,\u001b[0m\u001b[0mProblem\u001b[0m\u001b[1;33m.\u001b[0m\u001b[0md\u001b[0m\u001b[1;33m)\u001b[0m\u001b[1;33m\u001b[0m\u001b[1;33m\u001b[0m\u001b[0m\n\u001b[1;32m----> 4\u001b[1;33m \u001b[0mx_start\u001b[0m \u001b[1;33m=\u001b[0m \u001b[0mProblem\u001b[0m\u001b[1;33m.\u001b[0m\u001b[0mx_star\u001b[0m \u001b[1;33m+\u001b[0m \u001b[0mR\u001b[0m\u001b[1;33m*\u001b[0m\u001b[0mdirec\u001b[0m\u001b[1;33m/\u001b[0m\u001b[0mla\u001b[0m\u001b[1;33m.\u001b[0m\u001b[0mnorm\u001b[0m\u001b[1;33m(\u001b[0m\u001b[0mdirec\u001b[0m\u001b[1;33m)\u001b[0m \u001b[1;31m# for now on, not necessarily in Q for x_0\u001b[0m\u001b[1;33m\u001b[0m\u001b[1;33m\u001b[0m\u001b[0m\n\u001b[0m\u001b[0;32m      5\u001b[0m \u001b[1;33m\u001b[0m\u001b[0m\n\u001b[0;32m      6\u001b[0m \u001b[1;32mdef\u001b[0m \u001b[0mdelta_source_base\u001b[0m\u001b[1;33m(\u001b[0m\u001b[0mdelta\u001b[0m\u001b[1;33m)\u001b[0m\u001b[1;33m:\u001b[0m\u001b[1;33m\u001b[0m\u001b[1;33m\u001b[0m\u001b[0m\n",
      "\u001b[1;31mValueError\u001b[0m: operands could not be broadcast together with shapes (24,) (10,) "
     ]
    }
   ],
   "source": [
    "# test oracle\n",
    "\n",
    "direc = np.random.normal(0,1,Problem.d)\n",
    "x_start = Problem.x_star + R*direc/la.norm(direc) # for now on, not necessarily in Q for x_0\n",
    "\n",
    "def delta_source_base(delta):\n",
    "    return 0,np.sqrt(delta*(2*Problem.mu*Problem.L)/(2*Problem.L + Problem.mu))\n",
    "\n",
    "def f_d_base(x,DELTA1=0):\n",
    "    return Problem.f(x)\n",
    "\n",
    "def g_d_base(x,DELTA2=0):\n",
    "    direc = np.random.normal(0,1,Problem.d)\n",
    "    return Problem.dif_f(x)+direc/la.norm(direc)*DELTA2"
   ]
  },
  {
   "cell_type": "code",
   "execution_count": 42,
   "metadata": {},
   "outputs": [],
   "source": [
    "# Proximal Gradient Descent with fixed step-size\n",
    "\n",
    "# f_d => 0 th order oracle based on Problem.f \n",
    "# g_d => 1 th order oracle based on Problem.dif_f\n",
    "# cost => cost funtion that can depend on both delta and k ; \n",
    "#  see models (version 1.0 => (same cost per iteration) cost(delta,k) = (c1*delta + c2)/(1+c3*delta)\n",
    "# update => implements a proximal update (version 1.0 => (only projection))\n",
    "# delta_schedule => oracle accuracy at step xxx\n",
    "\n",
    "def inexact_cGD(f_d,g_d,update,delta_schedule,delta_source,x_0,x_star,h_sched,retrieve=True,verbose=False):\n",
    "    r_list = []\n",
    "    f_list = [f_d(x_0)]\n",
    "    x_prev = x_0\n",
    "    N = len(delta_schedule)\n",
    "    if verbose:\n",
    "        print(' => init. alg. iCGD <=')\n",
    "        print(' ')\n",
    "    for k in np.arange(len(delta_schedule)):\n",
    "        delta_current = delta_schedule[k]\n",
    "        DELTA1,DELTA2 = delta_source(delta_current)\n",
    "        x_current = update(h_sched(delta_current),x_prev-h_sched(delta_current)*g_d(x_prev,DELTA2))\n",
    "        if retrieve:\n",
    "            r_val = la.norm(x_current-x_star)\n",
    "            fg_val = f_d(x_current,DELTA1)\n",
    "            if verbose:\n",
    "                print('iteration '+ str(k) + ' || R value : '+str('{0:1.2e}'.format(r_val))+' , '+\\\n",
    "                      'f (tilde) value : '+str('{0:1.2e}'.format(fg_val)))\n",
    "            r_list.append(r_val)\n",
    "            f_list.append(fg_val)\n",
    "        x_prev = x_current\n",
    "    print(' ')\n",
    "    if retrieve:\n",
    "        return x_current,r_list,f_list\n",
    "    else:\n",
    "        return x_current"
   ]
  },
  {
   "cell_type": "code",
   "execution_count": 43,
   "metadata": {},
   "outputs": [
    {
     "name": "stdout",
     "output_type": "stream",
     "text": [
      " \n",
      " \n",
      " \n",
      "cost of (kkt optimized) inexact : L and mu : 245.9958238361096\n",
      "cost of exact : L_f and mu_f : 77.0\n",
      "cost of exact : L and mu : 317.0\n",
      "gain using opt. procedure => 2.24e+01 %\n"
     ]
    },
    {
     "data": {
      "image/png": "[encoded data removed]",
      "text/plain": [
       "<Figure size 648x432 with 1 Axes>"
      ]
     },
     "metadata": {},
     "output_type": "display_data"
    }
   ],
   "source": [
    "# testing time\n",
    "    \n",
    "x_inexact,r_list_inexact,f_list_inexact = inexact_cGD(f_d_base,g_d_base,Problem.update,\\\n",
    "                                                      base_sched,delta_source_base,x_start,Problem.x_star,lambda delta: 1/L)\n",
    "x_exact,r_list_exact,f_list_exact = inexact_cGD(f_d_base,g_d_base,Problem.update,\\\n",
    "                                                np.zeros(int(N_exact)),delta_source_base,x_start,Problem.x_star,lambda delta: 1/Problem.L)\n",
    "\n",
    "x_exact_bis,r_list_exact_bis,f_list_exact_bis = inexact_cGD(f_d_base,g_d_base,Problem.update,\\\n",
    "                                                np.zeros(int(N_inexact_min)),delta_source_base,x_start,Problem.x_star,lambda delta: 1/L)\n",
    "\n",
    "\n",
    "# reminder\n",
    "b1,b2 = base_cost(base_sched),base_cost(np.zeros(int(N_inexact_min)))\n",
    "print('cost of '+'exact : L_f and mu_f'+' : '+str(base_cost(np.zeros(int(N_exact)))))\n",
    "print('cost of '+'(kkt optimized) inexact : L and mu'+' : '+str(b1))\n",
    "print('cost of '+'exact : L and mu'+' : '+str(b2))\n",
    "print('gain using opt. procedure => '+str('{0:1.2e}'.format((b2-b1)*100/b2))+' %')\n",
    "# plotting time\n",
    "absx = np.arange(len(f_list_inexact))\n",
    "\n",
    "plt.figure(figsize=(9,6))\n",
    "plt.title('One Shot Comparison || G.T.O.1.0')\n",
    "plt.grid()\n",
    "plt.semilogy(absx,f_list_inexact-Problem.f(Problem.x_star),color='green')\n",
    "plt.semilogy(np.arange(len(f_list_exact_bis)),f_list_exact_bis-Problem.f(Problem.x_star),color='red')\n",
    "plt.semilogy(np.arange(len(f_list_exact)),f_list_exact-Problem.f(Problem.x_star),color='blue')\n",
    "plt.semilogy(absx,np.ones(len(f_list_inexact))*epsilon-Problem.f(Problem.x_star),color='black')\n",
    "plt.semilogy(absx,np.ones(len(f_list_inexact))*f_list_exact[0]-Problem.f(Problem.x_star),color='grey')\n",
    "if len(f_list_inexact) < 1e2:\n",
    "    plt.scatter(absx,f_list_inexact-Problem.f(Problem.x_star),color='green')\n",
    "    plt.scatter(np.arange(len(f_list_exact_bis)),f_list_exact_bis-Problem.f(Problem.x_star),color='red')\n",
    "    plt.scatter(np.arange(len(f_list_exact)),f_list_exact-Problem.f(Problem.x_star),color='blue')\n",
    "plt.xlabel('iterations : [k]')\n",
    "plt.ylabel('primal obj.')\n",
    "plt.legend(['inexact : $L$ and $\\mu$','exact : $L$ and $\\mu$','exact : $L_f$ and $\\mu_f$','accuracy required','neutral']);"
   ]
  }
 ],
 "metadata": {
  "kernelspec": {
   "display_name": "Python 3",
   "language": "python",
   "name": "python3"
  },
  "language_info": {
   "codemirror_mode": {
    "name": "ipython",
    "version": 3
   },
   "file_extension": ".py",
   "mimetype": "text/x-python",
   "name": "python",
   "nbconvert_exporter": "python",
   "pygments_lexer": "ipython3",
   "version": "3.6.9"
  }
 },
 "nbformat": 4,
 "nbformat_minor": 4
}
